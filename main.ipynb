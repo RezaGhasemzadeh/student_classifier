{
 "cells": [
  {
   "cell_type": "code",
   "execution_count": 2,
   "id": "ad96c657",
   "metadata": {},
   "outputs": [],
   "source": [
    "import pandas as pd\n",
    "import numpy as np\n",
    "from sklearn.metrics import accuracy_score\n",
    "from sklearn.linear_model import LogisticRegression, SGDClassifier\n",
    "from sklearn.model_selection import train_test_split"
   ]
  },
  {
   "cell_type": "code",
   "execution_count": 8,
   "id": "4be038fd",
   "metadata": {},
   "outputs": [
    {
     "name": "stdout",
     "output_type": "stream",
     "text": [
      "LogisticRegression Accuracy: 1.0\n",
      "SGDClassifier Accuracy: 0.55\n",
      "LogisticRegression Coeficients: [[0.85982697]] Intercept: [-49.85703502]\n",
      "SGDClassifier Coeficients: [[130.58724747]] Intercept: [-1035.19915884]\n",
      "Probability of each sample in LogisticRegression: [[8.07910862e-08 9.99999919e-01]\n",
      " [9.99999871e-01 1.29329177e-07]\n",
      " [9.99999673e-01 3.27308002e-07]\n",
      " [2.75486522e-09 9.99999997e-01]\n",
      " [1.77635684e-15 1.00000000e+00]\n",
      " [2.65130140e-11 1.00000000e+00]\n",
      " [9.99998006e-01 1.99406873e-06]\n",
      " [9.99930125e-01 6.98749772e-05]\n",
      " [9.99999256e-01 7.44098634e-07]\n",
      " [1.79856130e-13 1.00000000e+00]\n",
      " [9.99999995e-01 5.41297891e-09]\n",
      " [1.00000000e+00 4.53911322e-11]\n",
      " [4.24933422e-11 1.00000000e+00]\n",
      " [9.99999998e-01 1.73557514e-09]\n",
      " [2.99412495e-10 1.00000000e+00]\n",
      " [2.11698080e-07 9.99999788e-01]\n",
      " [9.99999996e-01 4.26687153e-09]\n",
      " [5.10704501e-09 9.99999995e-01]\n",
      " [2.27328806e-08 9.99999977e-01]\n",
      " [6.71982828e-08 9.99999933e-01]]\n",
      "Probability of each sample in SGDClassifier: [[0. 1.]\n",
      " [0. 1.]\n",
      " [0. 1.]\n",
      " [0. 1.]\n",
      " [0. 1.]\n",
      " [0. 1.]\n",
      " [0. 1.]\n",
      " [0. 1.]\n",
      " [0. 1.]\n",
      " [0. 1.]\n",
      " [0. 1.]\n",
      " [0. 1.]\n",
      " [0. 1.]\n",
      " [0. 1.]\n",
      " [0. 1.]\n",
      " [0. 1.]\n",
      " [0. 1.]\n",
      " [0. 1.]\n",
      " [0. 1.]\n",
      " [0. 1.]]\n"
     ]
    }
   ],
   "source": [
    "def preprocessing():\n",
    "    dataset = pd.read_csv(\"admission_result.csv\")\n",
    "    data = dataset.iloc[:, 0:1]\n",
    "    label = dataset.result\n",
    "    train_features, test_features, train_labels, test_labels = train_test_split(data, label, test_size=0.2, random_state=10)\n",
    "    return train_features, test_features, train_labels, test_labels\n",
    "\n",
    "    \n",
    "# Training with Logistic Regression\n",
    "def train():\n",
    "    train_features, test_features, train_labels, test_labels = preprocessing()\n",
    "    log_regressor = LogisticRegression()\n",
    "    log_regressor.fit(train_features, train_labels)\n",
    "    return log_regressor, test_features, test_labels\n",
    "\n",
    "\n",
    "# Training with SGDClassifier, note the this approach and the previous one have the same \n",
    "# Approach to solve the problem, but the result may be different due to some optimization\n",
    "# Concepts\n",
    "def train_SGD():\n",
    "    train_features, test_features, train_labels, test_labels = preprocessing()\n",
    "    sgd_classifier = SGDClassifier(loss=\"log_loss\", random_state=10)\n",
    "    sgd_classifier.fit(train_features, train_labels)\n",
    "    return sgd_classifier\n",
    "\n",
    "\n",
    "def show_result():\n",
    "    log_regressor, test_features, test_labels = train()\n",
    "    sgd_classifier = train_SGD()\n",
    "    predicted_labels_reg = log_regressor.predict(test_features)\n",
    "    predicted_labels_sgd = sgd_classifier.predict(test_features)\n",
    "    print(f\"LogisticRegression Accuracy: {accuracy_score(test_labels, predicted_labels_reg)}\")\n",
    "    print(f\"SGDClassifier Accuracy: {accuracy_score(test_labels, predicted_labels_sgd)}\")\n",
    "    print(f\"LogisticRegression Coeficients: {log_regressor.coef_} Intercept: {log_regressor.intercept_}\")\n",
    "    print(f\"SGDClassifier Coeficients: {sgd_classifier.coef_} Intercept: {sgd_classifier.intercept_}\")\n",
    "    print(f\"Probability of each sample in LogisticRegression: {log_regressor.predict_proba(test_features)}\")\n",
    "    print(f\"Probability of each sample in SGDClassifier: {sgd_classifier.predict_proba(test_features)}\")    \n",
    "show_result()"
   ]
  },
  {
   "cell_type": "code",
   "execution_count": null,
   "id": "5d2ac2c6",
   "metadata": {},
   "outputs": [],
   "source": []
  }
 ],
 "metadata": {
  "kernelspec": {
   "display_name": "Python 3 (ipykernel)",
   "language": "python",
   "name": "python3"
  },
  "language_info": {
   "codemirror_mode": {
    "name": "ipython",
    "version": 3
   },
   "file_extension": ".py",
   "mimetype": "text/x-python",
   "name": "python",
   "nbconvert_exporter": "python",
   "pygments_lexer": "ipython3",
   "version": "3.10.9"
  }
 },
 "nbformat": 4,
 "nbformat_minor": 5
}
